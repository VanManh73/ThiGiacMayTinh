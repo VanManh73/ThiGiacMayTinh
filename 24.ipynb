{
 "cells": [
  {
   "cell_type": "code",
   "execution_count": 10,
   "id": "4d026d47-4c04-467d-8553-34ad8a7558f9",
   "metadata": {},
   "outputs": [],
   "source": [
    "import cv2\n",
    "import time"
   ]
  },
  {
   "cell_type": "code",
   "execution_count": 11,
   "id": "ab78a78c-4d75-4d39-9365-b6f356f52cce",
   "metadata": {},
   "outputs": [],
   "source": [
    "# Đọc video từ file\n",
    "camera = cv2.VideoCapture(0)"
   ]
  },
  {
   "cell_type": "code",
   "execution_count": 12,
   "id": "d2527db1-2470-4c18-86e5-eaeedc151e81",
   "metadata": {},
   "outputs": [],
   "source": [
    "# Tạo cửa sổ để hiển thị\n",
    "cv2.namedWindow('Video Player', cv2.WINDOW_NORMAL)\n",
    "count = 0\n",
    "interval = 20"
   ]
  },
  {
   "cell_type": "code",
   "execution_count": 13,
   "id": "41e03245-e883-498d-94a8-e16758b07027",
   "metadata": {},
   "outputs": [],
   "source": [
    "# Ghi text trên hình ảnh\n",
    "font = cv2.FONT_HERSHEY_SIMPLEX\n",
    "font_color = (25, 50, 255)\n",
    "font_scale = 2\n",
    "font_thicknes = 2"
   ]
  },
  {
   "cell_type": "code",
   "execution_count": 14,
   "id": "02b314be-80e8-4d9f-a1e4-7a9e0b16a362",
   "metadata": {},
   "outputs": [],
   "source": [
    "# Hiển thị từng khung ảnh\n",
    "while True:\n",
    "    # Thời gian trước khi đọc\n",
    "    start_time = time.time()\n",
    "    \n",
    "    # Đọc 1 frame\n",
    "    ret, frame = camera.read()\n",
    "\n",
    "    #tăng 1 ccount +1\n",
    "    count = count + 1 \n",
    "    if(count%interval==0):\n",
    "        cv2.imwrite(f'./img/img/img_{count}.jpg', frame)\n",
    "    \n",
    "    # Nếu không thể đọc được frame (tức là hết video), đặt lại về khung hình đầu tiên\n",
    "    if not ret:\n",
    "        camera.set(cv2.CAP_PROP_POS_FRAMES, 0)\n",
    "        continue\n",
    "    # Thời gian trước khi đọc\n",
    "    end_time = time.time()    \n",
    "    # Tình FPS:\n",
    "    fps = 1/(end_time-start_time)\n",
    "    # Ghi số lượng fps\n",
    "    cv2.putText(frame, f'FPS: {fps:.2f}', (100, 100), font, font_scale, font_color , font_thicknes)\n",
    "    # Hiển thị\n",
    "    cv2.imshow('Video Player', frame)\n",
    "    # Thoát nếu nhấn phím bất kì\n",
    "    if cv2.waitKey(1) != -1:\n",
    "        break\n",
    "\n",
    "# Giải phóng tài nguyên và đóng cửa sổ sau khi thoát\n",
    "camera.release()\n",
    "cv2.destroyAllWindows()"
   ]
  },
  {
   "cell_type": "code",
   "execution_count": null,
   "id": "17342c4d-b923-4faf-b742-71ec4077e8af",
   "metadata": {},
   "outputs": [],
   "source": []
  },
  {
   "cell_type": "code",
   "execution_count": null,
   "id": "ba33c254-ecc7-4df5-b32e-d010af55a3b5",
   "metadata": {},
   "outputs": [],
   "source": []
  }
 ],
 "metadata": {
  "kernelspec": {
   "display_name": "Python 3 (ipykernel)",
   "language": "python",
   "name": "python3"
  },
  "language_info": {
   "codemirror_mode": {
    "name": "ipython",
    "version": 3
   },
   "file_extension": ".py",
   "mimetype": "text/x-python",
   "name": "python",
   "nbconvert_exporter": "python",
   "pygments_lexer": "ipython3",
   "version": "3.12.4"
  }
 },
 "nbformat": 4,
 "nbformat_minor": 5
}
