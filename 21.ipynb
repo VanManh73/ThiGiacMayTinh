{
 "cells": [
  {
   "cell_type": "code",
   "execution_count": 1,
   "id": "a7e57122-611b-4093-99d8-50afcee21097",
   "metadata": {},
   "outputs": [],
   "source": [
    "import cv2"
   ]
  },
  {
   "cell_type": "code",
   "execution_count": 2,
   "id": "e19979ba-de65-453d-a1b5-aeb3ccc466e2",
   "metadata": {},
   "outputs": [],
   "source": [
    "# Đọc video từ file\n",
    "my_video = cv2.VideoCapture('C:/Users/HP/thigiacmaytinh/img/df.mp4')"
   ]
  },
  {
   "cell_type": "code",
   "execution_count": 3,
   "id": "7a28a630-01ae-4996-bd12-e1e40abefa49",
   "metadata": {},
   "outputs": [],
   "source": [
    "# Tạo cửa sổ để hiển thị và thay đổi kích thước\n",
    "cv2.namedWindow('Video Player', cv2.WINDOW_NORMAL)\n",
    "cv2.resizeWindow('Video Player', 1280, 720)  # Thay đổi kích thước cửa sổ (chiều rộng, chiều cao)"
   ]
  },
  {
   "cell_type": "code",
   "execution_count": 3,
   "id": "025d3771-5662-4c96-9b51-c6b4b66e5bbe",
   "metadata": {},
   "outputs": [],
   "source": [
    "# Hiển thị từng khung ảnh\n",
    "while True:\n",
    "    # Đọc 1 frame\n",
    "    ret, frame = my_video.read()\n",
    "    \n",
    "    # Thoát khi không thể đọc được frame\n",
    "    if not ret:\n",
    "        break\n",
    "    \n",
    "    # Hiển thị\n",
    "    cv2.imshow('Video Player', frame)\n",
    "    \n",
    "    if(cv2.waitKey(10)==ord('q')):\n",
    "        break"
   ]
  },
  {
   "cell_type": "code",
   "execution_count": 4,
   "id": "02de4830-b2ce-4d09-81b7-cf63310f359e",
   "metadata": {},
   "outputs": [],
   "source": [
    "# Hủy bỏ player\n",
    "my_video.release\n",
    "cv2.destroyAllWindows()"
   ]
  },
  {
   "cell_type": "code",
   "execution_count": null,
   "id": "de7f31ef-6bda-4481-8070-95b20ec85471",
   "metadata": {},
   "outputs": [],
   "source": []
  },
  {
   "cell_type": "code",
   "execution_count": null,
   "id": "a5bcc27b-ce35-4a0d-b7a5-1f73092969c1",
   "metadata": {},
   "outputs": [],
   "source": []
  }
 ],
 "metadata": {
  "kernelspec": {
   "display_name": "Python 3 (ipykernel)",
   "language": "python",
   "name": "python3"
  },
  "language_info": {
   "codemirror_mode": {
    "name": "ipython",
    "version": 3
   },
   "file_extension": ".py",
   "mimetype": "text/x-python",
   "name": "python",
   "nbconvert_exporter": "python",
   "pygments_lexer": "ipython3",
   "version": "3.12.4"
  }
 },
 "nbformat": 4,
 "nbformat_minor": 5
}
